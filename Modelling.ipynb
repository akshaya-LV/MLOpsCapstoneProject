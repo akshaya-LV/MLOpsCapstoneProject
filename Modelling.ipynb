{
 "cells": [
  {
   "cell_type": "code",
   "execution_count": 0,
   "metadata": {
    "application/vnd.databricks.v1+cell": {
     "cellMetadata": {
      "byteLimit": 2048000,
      "rowLimit": 10000
     },
     "inputWidgets": {},
     "nuid": "006254c2-84b5-4d70-956c-d0da48a54ed5",
     "showTitle": false,
     "tableResultSettingsMap": {},
     "title": ""
    }
   },
   "outputs": [],
   "source": [
    "%pip install catboost"
   ]
  },
  {
   "cell_type": "code",
   "execution_count": 0,
   "metadata": {
    "application/vnd.databricks.v1+cell": {
     "cellMetadata": {
      "byteLimit": 2048000,
      "rowLimit": 10000
     },
     "inputWidgets": {},
     "nuid": "832f21c2-3a44-44ce-b88c-166999417880",
     "showTitle": false,
     "tableResultSettingsMap": {},
     "title": ""
    }
   },
   "outputs": [],
   "source": [
    "import pandas as pd\n",
    "import numpy as np\n",
    "from catboost import CatBoostRegressor\n",
    "from sklearn.model_selection import train_test_split\n",
    "from sklearn.metrics import mean_absolute_error"
   ]
  },
  {
   "cell_type": "code",
   "execution_count": 0,
   "metadata": {
    "application/vnd.databricks.v1+cell": {
     "cellMetadata": {
      "byteLimit": 2048000,
      "rowLimit": 10000
     },
     "inputWidgets": {},
     "nuid": "8bf09ebb-cf19-4ba9-b093-5b5e2056d42b",
     "showTitle": false,
     "tableResultSettingsMap": {},
     "title": ""
    }
   },
   "outputs": [],
   "source": [
    "# Read data\n",
    "df = spark.read.table(\"retail_catalog.retail_schema.rfm_table\")\n",
    "pd_model_df = df.toPandas()\n",
    "pd_model_df.head()"
   ]
  },
  {
   "cell_type": "code",
   "execution_count": 0,
   "metadata": {
    "application/vnd.databricks.v1+cell": {
     "cellMetadata": {
      "byteLimit": 2048000,
      "rowLimit": 10000
     },
     "inputWidgets": {},
     "nuid": "ae4b29d9-87aa-43b3-a949-e1d7b0342c57",
     "showTitle": false,
     "tableResultSettingsMap": {},
     "title": ""
    }
   },
   "outputs": [],
   "source": [
    "#convert categorical fields to numerical\n",
    "# Perform one-hot encoding on the 'product' column\n",
    "#pd_model_df = pd.get_dummies(pd_model_df, columns=['shopping_mall','payment_method','category','gender'])"
   ]
  },
  {
   "cell_type": "code",
   "execution_count": 0,
   "metadata": {
    "application/vnd.databricks.v1+cell": {
     "cellMetadata": {
      "byteLimit": 2048000,
      "rowLimit": 10000
     },
     "inputWidgets": {},
     "nuid": "73e0c9dc-1cc0-4591-98b2-ddfb6b59d836",
     "showTitle": false,
     "tableResultSettingsMap": {},
     "title": ""
    }
   },
   "outputs": [],
   "source": [
    "pd_model_df.head()"
   ]
  },
  {
   "cell_type": "code",
   "execution_count": 0,
   "metadata": {
    "application/vnd.databricks.v1+cell": {
     "cellMetadata": {
      "byteLimit": 2048000,
      "rowLimit": 10000
     },
     "inputWidgets": {},
     "nuid": "cba3db57-940d-4c4f-bd73-c3e70f9fde7d",
     "showTitle": false,
     "tableResultSettingsMap": {},
     "title": ""
    }
   },
   "outputs": [],
   "source": [
    "# --- 2. Define features (X) and target (y) ---\n",
    "# We will use all relevant columns to predict the 'total_rever'\n",
    "features = ['gender', 'age', 'category', 'quantity', 'price', 'rfm_score', 'payment_method', 'shopping_mall']\n",
    "target = 'total_revenue'\n",
    "\n",
    "X = pd_model_df[features]\n",
    "y = pd_model_df[target]\n",
    "\n",
    "# --- 3. Identify categorical features for CatBoost ---\n",
    "# CatBoost will automatically handle these columns\n",
    "cat_features = ['gender', 'category', 'payment_method', 'shopping_mall']\n",
    "\n",
    "# --- 4. Split data into training and test sets ---\n",
    "X_train, X_test, y_train, y_test = train_test_split(X, y, test_size=0.2, random_state=42)\n",
    "\n",
    "print(f\"Training on {len(X_train)} rows, testing on {len(X_test)} rows.\")"
   ]
  },
  {
   "cell_type": "code",
   "execution_count": 0,
   "metadata": {
    "application/vnd.databricks.v1+cell": {
     "cellMetadata": {
      "byteLimit": 2048000,
      "rowLimit": 10000
     },
     "inputWidgets": {},
     "nuid": "b1d95d29-c38b-4b59-a529-ccff4d36e086",
     "showTitle": false,
     "tableResultSettingsMap": {},
     "title": ""
    }
   },
   "outputs": [],
   "source": [
    "# --- 5. Initialize and train the CatBoost model ---\n",
    "# We provide the list of categorical features to the model\n",
    "cat_model = CatBoostRegressor(\n",
    "    iterations=100,\n",
    "    learning_rate=0.1,\n",
    "    loss_function='MAE', # Mean Absolute Error\n",
    "    verbose=0 # Suppress training output\n",
    ")\n",
    "\n",
    "print(\"\\nTraining CatBoost model...\")\n",
    "cat_model.fit(X_train, y_train, cat_features=cat_features)"
   ]
  },
  {
   "cell_type": "code",
   "execution_count": 0,
   "metadata": {
    "application/vnd.databricks.v1+cell": {
     "cellMetadata": {
      "byteLimit": 2048000,
      "rowLimit": 10000
     },
     "inputWidgets": {},
     "nuid": "13ad0ade-984f-4b65-8265-067cf7231354",
     "showTitle": false,
     "tableResultSettingsMap": {},
     "title": ""
    }
   },
   "outputs": [],
   "source": [
    "from sklearn.metrics import r2_score\n",
    "from sklearn.metrics import mean_squared_error\n",
    "import mlflow\n",
    "import mlflow.sklearn\n",
    "from sklearn.ensemble import RandomForestClassifier\n",
    "from sklearn.model_selection import train_test_split\n",
    "from sklearn.metrics import accuracy_score\n",
    "from sklearn.datasets import make_classification"
   ]
  },
  {
   "cell_type": "code",
   "execution_count": 0,
   "metadata": {
    "application/vnd.databricks.v1+cell": {
     "cellMetadata": {
      "byteLimit": 2048000,
      "rowLimit": 10000
     },
     "inputWidgets": {},
     "nuid": "726eff24-55a9-4d49-86b2-e021383ab87d",
     "showTitle": false,
     "tableResultSettingsMap": {},
     "title": ""
    }
   },
   "outputs": [],
   "source": [
    "# --- 6. Make predictions on the test set ---\n",
    "predictions = cat_model.predict(X_test)\n",
    "\n",
    "# --- 7. Evaluate the model's performance ---\n",
    "mae = mean_absolute_error(y_test, predictions)\n",
    "rmse = np.sqrt(mean_squared_error(y_test, predictions))\n",
    "r2 = r2_score(y_test, predictions)\n",
    "\n",
    "print(\"\\nPrediction complete.\")\n",
    "print(f\"Mean Absolute Error (MAE): {mae:.2f}\")\n",
    "\n",
    "print(\"\\nSample Predictions vs. Actual values:\")\n",
    "comparison_df = pd.DataFrame({\n",
    "    'Actual': y_test,\n",
    "    'Predicted': predictions.round(2)\n",
    "})\n",
    "print(comparison_df)\n",
    "print(\"Evaluation Metrics:\")\n",
    "print(f\"Mean Absolute Error (MAE): {mae:.2f}\")\n",
    "print(f\"Root Mean Squared Error (RMSE): {rmse:.2f}\")\n",
    "print(f\"R-squared (R²): {r2:.2f}\")"
   ]
  },
  {
   "cell_type": "code",
   "execution_count": 0,
   "metadata": {
    "application/vnd.databricks.v1+cell": {
     "cellMetadata": {
      "byteLimit": 2048000,
      "rowLimit": 10000
     },
     "inputWidgets": {},
     "nuid": "8b47a7b8-abb4-49de-8cb2-369a7c26ff3b",
     "showTitle": false,
     "tableResultSettingsMap": {},
     "title": ""
    }
   },
   "outputs": [],
   "source": [
    "from mlflow.models import infer_signature"
   ]
  },
  {
   "cell_type": "code",
   "execution_count": 0,
   "metadata": {
    "application/vnd.databricks.v1+cell": {
     "cellMetadata": {
      "byteLimit": 2048000,
      "rowLimit": 10000
     },
     "inputWidgets": {},
     "nuid": "b25f6058-41b2-46af-be1c-ff886191b644",
     "showTitle": false,
     "tableResultSettingsMap": {},
     "title": ""
    }
   },
   "outputs": [],
   "source": [
    "# --- 3. Start an MLflow Run ---\n",
    "with mlflow.start_run() as run:\n",
    "    # --- Define and log model parameters ---\n",
    "    iterations=100,\n",
    "    learning_rate=0.1,\n",
    "    loss_function='MAE', # Mean Absolute Error\n",
    "    verbose=0 # Suppress training output\n",
    "    mlflow.log_param(\"iterations\", iterations)\n",
    "    mlflow.log_param(\"learning_rate\", learning_rate)\n",
    "    mlflow.log_param(\"loss_function\", loss_function)\n",
    "    mlflow.log_param(\"verbose\", verbose)\n",
    "\n",
    "    cat_model.fit(X_train, y_train, cat_features=cat_features)\n",
    "    #model.fit(X_train, y_train)\n",
    "\n",
    "    # --- Make predictions and log metrics ---\n",
    "    # Infer signature from training data and predictions\n",
    "    signature = infer_signature(X_train, cat_model.predict(X_train))\n",
    "    #input_example = X_train.iloc[[0]] if hasattr(X_train, \"iloc\") else X_train[:1]\n",
    "    mae = mean_absolute_error(y_test, predictions)\n",
    "    rmse = np.sqrt(mean_squared_error(y_test, predictions))\n",
    "    r2 = r2_score(y_test, predictions)\n",
    "    mlflow.log_metric(\"MAE\", mae)\n",
    "    mlflow.log_metric(\"RMSE\", rmse)\n",
    "    mlflow.log_metric(\"R2\", r2)\n",
    "\n",
    "    # --- 4. Log the model and register it in the Model Registry ---\n",
    "    # The 'registered_model_name' argument is crucial for automatic registration\n",
    "    mlflow.catboost.log_model(cb_model=cat_model, artifact_path=\"CatBoostRegressor_model\", registered_model_name=\"Customer_Segmentation_Model\",\n",
    "    signature=signature, input_example=X_train)\n",
    "\n",
    "    print(f\"MLflow Run ID: {run.info.run_id}\")\n",
    "    print(f\"Model logged and registered under: Customer_Segmentation_Model\")"
   ]
  }
 ],
 "metadata": {
  "application/vnd.databricks.v1+notebook": {
   "computePreferences": null,
   "dashboards": [],
   "environmentMetadata": {
    "base_environment": "",
    "environment_version": "3"
   },
   "inputWidgetPreferences": null,
   "language": "python",
   "notebookMetadata": {
    "pythonIndentUnit": 4
   },
   "notebookName": "Modelling",
   "widgets": {}
  },
  "language_info": {
   "name": "python"
  }
 },
 "nbformat": 4,
 "nbformat_minor": 0
}
