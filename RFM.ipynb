{
 "cells": [
  {
   "cell_type": "code",
   "execution_count": 0,
   "metadata": {
    "application/vnd.databricks.v1+cell": {
     "cellMetadata": {
      "byteLimit": 2048000,
      "rowLimit": 10000
     },
     "inputWidgets": {},
     "nuid": "d1d44d0d-9409-4611-9a18-201a591e1880",
     "showTitle": false,
     "tableResultSettingsMap": {},
     "title": ""
    }
   },
   "outputs": [],
   "source": [
    "import pandas as pd\n",
    "import numpy as np\n",
    "import matplotlib.pyplot as plt\n",
    "import seaborn as sns"
   ]
  },
  {
   "cell_type": "code",
   "execution_count": 0,
   "metadata": {
    "application/vnd.databricks.v1+cell": {
     "cellMetadata": {
      "byteLimit": 2048000,
      "rowLimit": 10000
     },
     "inputWidgets": {},
     "nuid": "04ae1b8e-8b94-4710-b64e-6a6dc469d155",
     "showTitle": false,
     "tableResultSettingsMap": {},
     "title": ""
    }
   },
   "outputs": [],
   "source": [
    "# Read data\n",
    "df = spark.read.table(\"retail_catalog.retail_schema.features\")"
   ]
  },
  {
   "cell_type": "code",
   "execution_count": 0,
   "metadata": {
    "application/vnd.databricks.v1+cell": {
     "cellMetadata": {
      "byteLimit": 2048000,
      "rowLimit": 10000
     },
     "inputWidgets": {},
     "nuid": "43feb77d-e121-46c2-b632-df1526e7bb8d",
     "showTitle": false,
     "tableResultSettingsMap": {},
     "title": ""
    }
   },
   "outputs": [],
   "source": [
    "pd_df = df.toPandas()\n",
    "pd_df.head()"
   ]
  },
  {
   "cell_type": "code",
   "execution_count": 0,
   "metadata": {
    "application/vnd.databricks.v1+cell": {
     "cellMetadata": {
      "byteLimit": 2048000,
      "rowLimit": 10000
     },
     "inputWidgets": {},
     "nuid": "4a2ed7fd-9eac-4bd6-9105-26288eb17f45",
     "showTitle": false,
     "tableResultSettingsMap": {},
     "title": ""
    }
   },
   "outputs": [],
   "source": [
    "pd_df['revenue'] = pd_df['quantity'] * pd_df['price']\n",
    "pd_df.head()"
   ]
  },
  {
   "cell_type": "code",
   "execution_count": 0,
   "metadata": {
    "application/vnd.databricks.v1+cell": {
     "cellMetadata": {
      "byteLimit": 2048000,
      "rowLimit": 10000
     },
     "inputWidgets": {},
     "nuid": "3d7e0043-b015-4301-9b51-0bc255159589",
     "showTitle": false,
     "tableResultSettingsMap": {},
     "title": ""
    }
   },
   "outputs": [],
   "source": [
    "# Find the most recent date in the dataset to calculate recency\n",
    "today_date = max(pd_df['invoice_date'])\n",
    "\n",
    "# Calculate RFM values for each customer\n",
    "rfm_df = pd_df.groupby('customer_id').agg(\n",
    "    recency=('invoice_date', lambda x: (today_date - x.max()).days),\n",
    "    frequency=('quantity', 'sum'),\n",
    "    monetary=('price', 'sum')\n",
    ").reset_index()\n",
    "\n",
    "print(\"RFM Values for Each Customer:\")\n",
    "print(rfm_df)"
   ]
  },
  {
   "cell_type": "code",
   "execution_count": 0,
   "metadata": {
    "application/vnd.databricks.v1+cell": {
     "cellMetadata": {
      "byteLimit": 2048000,
      "rowLimit": 10000
     },
     "inputWidgets": {},
     "nuid": "02ad8fa3-d0f4-4453-9f75-29c6fe2a1733",
     "showTitle": false,
     "tableResultSettingsMap": {},
     "title": ""
    }
   },
   "outputs": [],
   "source": [
    "# Create quintile labels\n",
    "r_labels = range(5, 0, -1)  # Recency: 5 is best (most recent)\n",
    "f_m_labels = range(1, 5)    # Frequency & Monetary: 5 is best (most frequent/highest spending)\n",
    "\n",
    "# Assign scores using pd.qcut()\n",
    "rfm_df['R_Score'] = pd.qcut(rfm_df['recency'], q=5, labels=r_labels)\n",
    "#rfm_df['F_Score'] = pd.qcut(rfm_df[\"frequency\"], q=5, duplicates=\"drop\")\n",
    "rfm_df['F_Score'] = pd.qcut(rfm_df['frequency'], q=5, duplicates='drop')\n",
    "rfm_df['M_Score'] = pd.qcut(rfm_df['monetary'], q=5)"
   ]
  },
  {
   "cell_type": "code",
   "execution_count": 0,
   "metadata": {
    "application/vnd.databricks.v1+cell": {
     "cellMetadata": {
      "byteLimit": 2048000,
      "rowLimit": 10000
     },
     "inputWidgets": {},
     "nuid": "b0b543f0-94c0-4d99-9195-b64016bf99ff",
     "showTitle": false,
     "tableResultSettingsMap": {},
     "title": ""
    }
   },
   "outputs": [],
   "source": [
    "# .cat.codes returns 0-based integers, so we add 1 to make them 1-based\n",
    "rfm_df['F_Score_int'] = rfm_df['F_Score'].cat.codes + 1\n",
    "rfm_df['M_Score_int'] = rfm_df['M_Score'].cat.codes + 1"
   ]
  },
  {
   "cell_type": "code",
   "execution_count": 0,
   "metadata": {
    "application/vnd.databricks.v1+cell": {
     "cellMetadata": {
      "byteLimit": 2048000,
      "rowLimit": 10000
     },
     "inputWidgets": {},
     "nuid": "04098640-146b-40f2-9c42-fc9ae249e444",
     "showTitle": false,
     "tableResultSettingsMap": {},
     "title": ""
    }
   },
   "outputs": [],
   "source": [
    "rfm_df.head()"
   ]
  },
  {
   "cell_type": "code",
   "execution_count": 0,
   "metadata": {
    "application/vnd.databricks.v1+cell": {
     "cellMetadata": {
      "byteLimit": 2048000,
      "rowLimit": 10000
     },
     "inputWidgets": {},
     "nuid": "feebbf60-32b6-4aa7-8a29-a00fe3acacd0",
     "showTitle": false,
     "tableResultSettingsMap": {},
     "title": ""
    }
   },
   "outputs": [],
   "source": [
    "\n",
    "# Combine the scores to get a single RFM score\n",
    "rfm_df['rfm_score'] = rfm_df['R_Score'].astype(int) + rfm_df['F_Score_int'].astype(int) + rfm_df['M_Score_int'].astype(int)\n",
    "\n",
    "print(\"\\nRFM Scores for Each Customer:\")\n",
    "print(rfm_df)"
   ]
  },
  {
   "cell_type": "code",
   "execution_count": 0,
   "metadata": {
    "application/vnd.databricks.v1+cell": {
     "cellMetadata": {
      "byteLimit": 2048000,
      "rowLimit": 10000
     },
     "inputWidgets": {},
     "nuid": "496d528f-a9b0-418d-bce0-b45dd0085a76",
     "showTitle": false,
     "tableResultSettingsMap": {},
     "title": ""
    }
   },
   "outputs": [],
   "source": [
    "rfm_df['rfm_score'].max()"
   ]
  },
  {
   "cell_type": "code",
   "execution_count": 0,
   "metadata": {
    "application/vnd.databricks.v1+cell": {
     "cellMetadata": {
      "byteLimit": 2048000,
      "rowLimit": 10000
     },
     "inputWidgets": {},
     "nuid": "e622fd26-6422-4d4a-aab8-ffd316efa880",
     "showTitle": false,
     "tableResultSettingsMap": {},
     "title": ""
    }
   },
   "outputs": [],
   "source": [
    "rfm_df['rfm_score'].min()"
   ]
  },
  {
   "cell_type": "code",
   "execution_count": 0,
   "metadata": {
    "application/vnd.databricks.v1+cell": {
     "cellMetadata": {
      "byteLimit": 2048000,
      "rowLimit": 10000
     },
     "inputWidgets": {},
     "nuid": "8c08f460-f932-406f-99ad-2f4299d46895",
     "showTitle": false,
     "tableResultSettingsMap": {},
     "title": ""
    }
   },
   "outputs": [],
   "source": [
    "# Define segmentation logic\n",
    "def get_segment(score):\n",
    "    if score >= 10:\n",
    "        return 'Champions'\n",
    "    elif score >= 7:\n",
    "        return 'Loyal Customers'\n",
    "    elif score >= 5:\n",
    "        return 'Potential'\n",
    "    else:\n",
    "        return 'At Risk'\n",
    "\n",
    "# Create a new column 'customer_segment'\n",
    "rfm_df['customer_segment'] = rfm_df['rfm_score'].apply(get_segment)\n",
    "\n",
    "print(\"\\nFinal RFM Customer Segments:\")\n",
    "print(rfm_df[['customer_id', 'rfm_score', 'customer_segment']].sort_values(by='rfm_score', ascending=False))"
   ]
  },
  {
   "cell_type": "code",
   "execution_count": 0,
   "metadata": {
    "application/vnd.databricks.v1+cell": {
     "cellMetadata": {
      "byteLimit": 2048000,
      "rowLimit": 10000
     },
     "inputWidgets": {},
     "nuid": "56896125-e6b8-416d-9ccd-7d57f02d7cc7",
     "showTitle": false,
     "tableResultSettingsMap": {},
     "title": ""
    }
   },
   "outputs": [],
   "source": [
    "rfm_score_df = pd.merge(pd_df, rfm_df, on='customer_id', how='left')\n",
    "\n",
    "print(\"Merged DataFrame:\")\n",
    "print(rfm_score_df.head())"
   ]
  },
  {
   "cell_type": "code",
   "execution_count": 0,
   "metadata": {
    "application/vnd.databricks.v1+cell": {
     "cellMetadata": {
      "byteLimit": 2048000,
      "rowLimit": 10000
     },
     "inputWidgets": {},
     "nuid": "6461a1b2-7ea2-4d26-82aa-121d87f9ffd2",
     "showTitle": false,
     "tableResultSettingsMap": {},
     "title": ""
    }
   },
   "outputs": [],
   "source": [
    "import pandas as pd\n",
    "from pyspark.sql import SparkSession"
   ]
  },
  {
   "cell_type": "code",
   "execution_count": 0,
   "metadata": {
    "application/vnd.databricks.v1+cell": {
     "cellMetadata": {
      "byteLimit": 2048000,
      "rowLimit": 10000
     },
     "inputWidgets": {},
     "nuid": "62e3df2f-ef4a-4427-9dfe-a9941fa8b49a",
     "showTitle": false,
     "tableResultSettingsMap": {},
     "title": ""
    }
   },
   "outputs": [],
   "source": [
    "# Create a SparkSession (if not already available)\n",
    "spark = SparkSession.builder.appName(\"pandas_to_spark\").getOrCreate()\n",
    "\n",
    "# Convert the pandas DataFrame to a Spark DataFrame\n",
    "spark_df = spark.createDataFrame(rfm_score_df)\n",
    "\n",
    "# Store the Spark DataFrame as a table\n",
    "spark_df.write.mode(\"overwrite\").saveAsTable(\"retail_catalog.retail_schema.rfm_table\")"
   ]
  },
  {
   "cell_type": "code",
   "execution_count": 0,
   "metadata": {
    "application/vnd.databricks.v1+cell": {
     "cellMetadata": {},
     "inputWidgets": {},
     "nuid": "bc80a14a-9102-4b95-8761-ae4445175d58",
     "showTitle": false,
     "tableResultSettingsMap": {},
     "title": ""
    }
   },
   "outputs": [],
   "source": [
    "# Example with mode=\"append\"\n",
    "#spark_df.write.mode(\"append\").saveAsTable(\"gold_layer.customer_data\")"
   ]
  }
 ],
 "metadata": {
  "application/vnd.databricks.v1+notebook": {
   "computePreferences": {
    "hardware": {
     "accelerator": null,
     "gpuPoolId": null,
     "memory": null
    }
   },
   "dashboards": [],
   "environmentMetadata": {
    "base_environment": "",
    "environment_version": "3"
   },
   "inputWidgetPreferences": null,
   "language": "python",
   "notebookMetadata": {
    "pythonIndentUnit": 4
   },
   "notebookName": "RFM",
   "widgets": {}
  },
  "language_info": {
   "name": "python"
  }
 },
 "nbformat": 4,
 "nbformat_minor": 0
}
